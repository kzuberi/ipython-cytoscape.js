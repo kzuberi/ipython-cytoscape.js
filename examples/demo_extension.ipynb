{
 "metadata": {
  "name": "",
  "signature": "sha256:2d85d9971d55da37c210ca980abc1b2e636c6c4ae0cd8a0e8cb9e1937c8e0da8"
 },
 "nbformat": 3,
 "nbformat_minor": 0,
 "worksheets": [
  {
   "cells": [
    {
     "cell_type": "code",
     "collapsed": false,
     "input": [
      "%load_ext cyto"
     ],
     "language": "python",
     "metadata": {},
     "outputs": [
      {
       "javascript": [
        "\n",
        "require.config({\n",
        "    paths: {\n",
        "        cytoscape: \"http://cytoscape.github.io/cytoscape.js/api/cytoscape.js-latest/cytoscape.min\",\n",
        "    }\n",
        "});\n",
        "\n",
        "\n",
        "require([\"widgets/js/widget\", \"cytoscape\"], function(WidgetManager, cytoscape){\n",
        "\n",
        "    var CytoWidgetView = IPython.DOMWidgetView.extend({\n",
        "//        if we need the initialize function, remember to put in a call\n",
        "//        to the super method. here's a reminder:\n",
        "//        initialize: function() {\n",
        "//            return CytoWidgetView.__super__.initialize.apply(this, arguments);\n",
        "//        },\n",
        "\n",
        "        render: function(){\n",
        "            this.$el.css('height', '500px');\n",
        "            this.$el.css('width', '500px');\n",
        "            this.$el.css('position', 'relative');\n",
        "\n",
        "            var that = this;\n",
        "\n",
        "            var style = this.model.get('default_style_json');\n",
        "\n",
        "\n",
        "            this.$el.cytoscape({\n",
        "\n",
        "                layout: {\n",
        "                    name: 'circle',\n",
        "                },\n",
        "\n",
        "                zoomingEnabled: false,\n",
        "                userZoomingEnabled: false,\n",
        "                pan: { x: 0, y: 0 },\n",
        "                panningEnabled: false,\n",
        "\n",
        "                ready: function(evt){\n",
        "                    // clear cytoscape container position cache\n",
        "                    // to work around scrolling bug\n",
        "                    var cy = this;\n",
        "                    that.$el.closest(\"#notebook\").scroll(function(){\n",
        "                        cy._private.renderer.containerBB = null;\n",
        "                    });\n",
        "                },\n",
        "            })\n",
        "\n",
        "            return this;\n",
        "        },\n",
        "\n",
        "        update: function() {\n",
        "            var cy = this.$el.cytoscape('get');\n",
        "\n",
        "            var style = this.model.get('style');\n",
        "            cy.style().resetToDefault().fromJson($.parseJSON(style));\n",
        "\n",
        "            var elements = this.model.get('elements');\n",
        "            var node_data = $.parseJSON(elements[0]);\n",
        "            var edge_data = $.parseJSON(elements[1]);\n",
        "\n",
        "            var nodes = [];\n",
        "            for (var i=0; i<node_data.length; i++) {\n",
        "                nodes.push({data: node_data[i]});\n",
        "            }\n",
        "\n",
        "            var edges = [];\n",
        "            for (var i=0; i<edge_data.length; i++) {\n",
        "                edges.push({data: edge_data[i]});\n",
        "            }\n",
        "\n",
        "            var elements = {nodes: nodes, edges: edges};\n",
        "\n",
        "            cy.load(elements, function() {\n",
        "                //console.log(\"cy load done\");\n",
        "            });\n",
        "\n",
        "            return CytoWidgetView.__super__.update.apply(this);\n",
        "        },\n",
        "\n",
        "    });\n",
        "\n",
        "    // register widget\n",
        "    WidgetManager.register_widget_view('CytoWidgetView', CytoWidgetView);\n",
        "});"
       ],
       "metadata": {},
       "output_type": "display_data",
       "text": [
        "<IPython.core.display.Javascript at 0x10369f750>"
       ]
      }
     ],
     "prompt_number": 1
    },
    {
     "cell_type": "code",
     "collapsed": false,
     "input": [
      "import pandas as pd\n",
      "nodes = pd.DataFrame([['a', 'alpha', 10, 'red', 'hexagon'], \n",
      "                      ['b', 'beta', 50, 'blue', 'circle'], \n",
      "                      ['g', 'gamma', 80, 'green', 'square']], \n",
      "                     columns=['id', 'name', 'weight', 'color', 'shape'])\n",
      "\n",
      "edges = pd.DataFrame([['a', 'b', 50, 'yellow' ], \n",
      "                      ['a', 'g', 20, 'grey'], \n",
      "                      ['b', 'g', 70, 'orange']], \n",
      "                     columns=['source', 'target', 'strength', 'color'])\n"
     ],
     "language": "python",
     "metadata": {},
     "outputs": [],
     "prompt_number": 2
    },
    {
     "cell_type": "code",
     "collapsed": false,
     "input": [
      "style = cyto.style_factory()\n",
      "print style"
     ],
     "language": "python",
     "metadata": {},
     "outputs": [
      {
       "output_type": "stream",
       "stream": "stdout",
       "text": [
        "{'node': {'text-outline-color': 'data(color)', 'text-outline-width': 2, 'color': '#fff', 'content': 'data(name)', 'width': 'mapData(weight, 40, 80, 20, 60)', 'shape': 'data(shape)', 'text-valign': 'center', 'background-color': 'data(color)'}, 'edge.questionable': {'line-style': 'dotted', 'target-arrow-shape': 'diamond'}, 'edge': {'source-arrow-shape': 'circle', 'line-color': 'data(color)', 'target-arrow-shape': 'triangle', 'source-arrow-color': 'data(color)', 'width': 'mapData(strength, 70, 100, 2, 6)', 'target-arrow-color': 'data(color)'}, ':selected': {'border-color': '#333', 'border-width': 3}, '.faded': {'opacity': 0.25, 'text-opacity': 0}}\n"
       ]
      }
     ],
     "prompt_number": 3
    },
    {
     "cell_type": "code",
     "collapsed": false,
     "input": [
      "style['edge']['source-arrow-shape'] = 'square'"
     ],
     "language": "python",
     "metadata": {},
     "outputs": [],
     "prompt_number": 4
    },
    {
     "cell_type": "code",
     "collapsed": false,
     "input": [
      "graph = cyto.Graph(nodes, edges, style=style)\n",
      "graph"
     ],
     "language": "python",
     "metadata": {},
     "outputs": [],
     "prompt_number": 5
    },
    {
     "cell_type": "code",
     "collapsed": false,
     "input": [],
     "language": "python",
     "metadata": {},
     "outputs": [],
     "prompt_number": 5
    }
   ],
   "metadata": {}
  }
 ]
}