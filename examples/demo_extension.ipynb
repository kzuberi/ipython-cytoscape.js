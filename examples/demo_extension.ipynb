{
 "metadata": {
  "name": "",
  "signature": "sha256:d8a617301321c9f404ada350cde63e1a9829ad27df4f6bd533180321f1206d45"
 },
 "nbformat": 3,
 "nbformat_minor": 0,
 "worksheets": [
  {
   "cells": [
    {
     "cell_type": "code",
     "collapsed": false,
     "input": [
      "%load_ext cyto"
     ],
     "language": "python",
     "metadata": {},
     "outputs": [
      {
       "javascript": [
        "\n",
        "require.config({\n",
        "    paths: {\n",
        "        cytoscape: \"http://cytoscape.github.io/cytoscape.js/api/cytoscape.js-latest/cytoscape.min.js\",\n",
        "    }\n",
        "});\n",
        "\n",
        "\n",
        "require([\"widgets/js/widget\", \"cytoscape\"], function(WidgetManager, cytoscape){\n",
        "\n",
        "    var CytoWidgetView = IPython.DOMWidgetView.extend({\n",
        "//        if we need the initialize function, remember to put in a call\n",
        "//        to the super method. here's a reminder:\n",
        "//        initialize: function() {\n",
        "//            return CytoWidgetView.__super__.initialize.apply(this, arguments);\n",
        "//        },\n",
        "\n",
        "        render: function(){\n",
        "            this.$el.css('height', '500px');\n",
        "            this.$el.css('width', '500px');\n",
        "            this.$el.css('position', 'relative');\n",
        "\n",
        "            var that = this;\n",
        "\n",
        "            var style = this.model.get('default_style_json');\n",
        "\n",
        "\n",
        "            this.$el.cytoscape({\n",
        "\n",
        "                layout: {\n",
        "                    name: 'circle',\n",
        "                },\n",
        "\n",
        "                zoomingEnabled: false,\n",
        "                userZoomingEnabled: false,\n",
        "                pan: { x: 0, y: 0 },\n",
        "                panningEnabled: false,\n",
        "\n",
        "                ready: function(evt){\n",
        "                    // clear cytoscape container position cache\n",
        "                    // to work around scrolling bug\n",
        "                    var cy = this;\n",
        "                    that.$el.closest(\"#notebook\").scroll(function(){\n",
        "                        cy._private.renderer.containerBB = null;\n",
        "                    });\n",
        "                },\n",
        "            })\n",
        "\n",
        "            return this;\n",
        "        },\n",
        "\n",
        "        update: function() {\n",
        "            var cy = this.$el.cytoscape('get');\n",
        "\n",
        "            var style = this.model.get('style');\n",
        "            cy.style().resetToDefault().fromJson($.parseJSON(style));\n",
        "\n",
        "            var elements = this.model.get('elements');\n",
        "            var node_data = $.parseJSON(elements[0]);\n",
        "            var edge_data = $.parseJSON(elements[1]);\n",
        "\n",
        "            var nodes = [];\n",
        "            for (var i=0; i<node_data.length; i++) {\n",
        "                nodes.push({data: node_data[i]});\n",
        "            }\n",
        "\n",
        "            var edges = [];\n",
        "            for (var i=0; i<edge_data.length; i++) {\n",
        "                edges.push({data: edge_data[i]});\n",
        "            }\n",
        "\n",
        "            var elements = {nodes: nodes, edges: edges};\n",
        "\n",
        "            cy.load(elements, function() {\n",
        "                //console.log(\"cy load done\");\n",
        "            });\n",
        "\n",
        "            return CytoWidgetView.__super__.update.apply(this);\n",
        "        },\n",
        "\n",
        "    });\n",
        "\n",
        "    // register widget\n",
        "    WidgetManager.register_widget_view('CytoWidgetView', CytoWidgetView);\n",
        "});"
       ],
       "metadata": {},
       "output_type": "display_data",
       "text": [
        "<IPython.core.display.Javascript at 0x10369f750>"
       ]
      }
     ],
     "prompt_number": 1
    },
    {
     "cell_type": "code",
     "collapsed": false,
     "input": [
      "import pandas as pd\n",
      "nodes = pd.DataFrame([['a', 'alpha', 10, 'red', 'hexagon'], \n",
      "                      ['b', 'beta', 50, 'blue', 'circle'], \n",
      "                      ['g', 'gamma', 80, 'green', 'square']], \n",
      "                     columns=['id', 'name', 'weight', 'color', 'shape'])\n",
      "\n",
      "edges = pd.DataFrame([['a', 'b', 50, 'yellow' ], \n",
      "                      ['a', 'g', 20, 'grey'], \n",
      "                      ['b', 'g', 70, 'orange']], \n",
      "                     columns=['source', 'target', 'strength', 'color'])\n"
     ],
     "language": "python",
     "metadata": {},
     "outputs": [],
     "prompt_number": 2
    },
    {
     "cell_type": "code",
     "collapsed": false,
     "input": [
      "graph = cyto.Graph(nodes, edges)\n",
      "graph"
     ],
     "language": "python",
     "metadata": {},
     "outputs": [],
     "prompt_number": 3
    }
   ],
   "metadata": {}
  }
 ]
}