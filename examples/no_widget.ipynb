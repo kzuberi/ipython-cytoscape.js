{
 "cells": [
  {
   "cell_type": "markdown",
   "metadata": {},
   "source": [
    "Here's an example of using the [cytoscape.js](http://cytoscape.github.io/cytoscape.js/) graph visualization library directly within an [IPython Notebook](http://ipython.org/notebook.html). \n",
    "\n",
    "Note if viewing this notebook in github's built-in notebook renderer you won't see the resulting graph (presumably a security thing, it depends on pulling in some javascript). But it does still render nicely [here on nbviewer](https://github.com/kzuberi/ipython-cytoscape.js/blob/master/examples/no_widget.ipynb).\n",
    "\n",
    "Following the handy example in [this notebook](http://nbviewer.ipython.org/github/ellisonbg/talk-strata-sc2014/blob/master/d3%20in%20the%20notebook.ipynb) for integrating [d3.js](http://d3js.org/), we'll just transcribes one of the [cytoscape.js examples](https://github.com/cytoscape/cytoscape.js/wiki/Live-code-examples) into the notebook using html and javascript cells.\n"
   ]
  },
  {
   "cell_type": "markdown",
   "metadata": {},
   "source": [
    "So the recipe is:\n",
    "\n",
    " 1. create a container element for the graph, here a div called 'cy'\n",
    " 2. initialize a cytoscape.js graph on this div, with visual styles and node/edge data declared in the javascript\n",
    " \n",
    "One minor tweak from the original cytocapejs example: turning off the pan/zoom feature since I seem to trigger it inadvertently while navigating around the notebook.\n"
   ]
  },
  {
   "cell_type": "code",
   "execution_count": 1,
   "metadata": {
    "collapsed": false
   },
   "outputs": [
    {
     "data": {
      "text/html": [
       "<div id=\"cy\" style=\"width: 300px; height: 300px; position: relative\"></div>"
      ],
      "text/plain": [
       "<IPython.core.display.HTML object>"
      ]
     },
     "metadata": {},
     "output_type": "display_data"
    }
   ],
   "source": [
    "%%html\n",
    "<div id=\"cy\" style=\"width: 300px; height: 300px; position: relative\"></div>\n"
   ]
  },
  {
   "cell_type": "markdown",
   "metadata": {},
   "source": [
    "Initialize the graph with default data (nodes & edges) and set up a visual style."
   ]
  },
  {
   "cell_type": "code",
   "execution_count": 2,
   "metadata": {
    "collapsed": false
   },
   "outputs": [
    {
     "data": {
      "application/javascript": [
       "\n",
       "require.config({\n",
       "    paths: {\n",
       "        cytoscape: \"http://cytoscape.github.io/cytoscape.js/api/cytoscape.js-2.4.5/cytoscape.min\",\n",
       "    }\n",
       "});\n",
       "\n",
       "require([\"cytoscape\"], function(cytoscape) {\n",
       "    $('#cy').cytoscape({\n",
       "        layout: {\n",
       "            name: 'circle',\n",
       "        },\n",
       "\n",
       "        zoomingEnabled: false,\n",
       "        userZoomingEnabled: false,\n",
       "        pan: { x: 0, y: 0 },\n",
       "        panningEnabled: false,\n",
       "        fit: true,\n",
       "\n",
       "        style: cytoscape.stylesheet()\n",
       "            .selector('node')\n",
       "            .css({\n",
       "                'shape': 'data(faveShape)',\n",
       "                'width': 'mapData(weight, 40, 80, 20, 60)',\n",
       "                'content': 'data(name)',\n",
       "                'text-valign': 'center',\n",
       "                'text-outline-width': 2,\n",
       "                'text-outline-color': 'data(faveColor)',\n",
       "                'background-color': 'data(faveColor)',\n",
       "                'color': '#fff'\n",
       "            })\n",
       "            .selector(':selected')\n",
       "            .css({\n",
       "                'border-width': 3,\n",
       "                'border-color': '#333'\n",
       "            })\n",
       "            .selector('edge')\n",
       "            .css({\n",
       "                'width': 'mapData(strength, 70, 100, 2, 6)',\n",
       "                'target-arrow-shape': 'triangle',\n",
       "                'source-arrow-shape': 'circle',\n",
       "                'line-color': 'data(faveColor)',\n",
       "                'source-arrow-color': 'data(faveColor)',\n",
       "                'target-arrow-color': 'data(faveColor)'\n",
       "            })\n",
       "            .selector('edge.questionable')\n",
       "            .css({\n",
       "                'line-style': 'dotted',\n",
       "                'target-arrow-shape': 'diamond'\n",
       "            })\n",
       "            .selector('.faded')\n",
       "            .css({\n",
       "                'opacity': 0.25,\n",
       "                'text-opacity': 0\n",
       "            }),\n",
       "\n",
       "        elements: {\n",
       "            nodes: [\n",
       "                { data: { id: 'j', name: 'Jerry', weight: 65, faveColor: '#6FB1FC', faveShape: 'triangle' } },\n",
       "                { data: { id: 'e', name: 'Elaine', weight: 45, faveColor: '#EDA1ED', faveShape: 'ellipse' } },\n",
       "                { data: { id: 'k', name: 'Kramer', weight: 75, faveColor: '#86B342', faveShape: 'octagon' } },\n",
       "                { data: { id: 'g', name: 'George', weight: 70, faveColor: '#F5A45D', faveShape: 'rectangle' } }\n",
       "            ],\n",
       "            edges: [\n",
       "                { data: { source: 'j', target: 'e', faveColor: '#6FB1FC', strength: 90 } },\n",
       "                { data: { source: 'j', target: 'k', faveColor: '#6FB1FC', strength: 70 } },\n",
       "                { data: { source: 'j', target: 'g', faveColor: '#6FB1FC', strength: 80 } },\n",
       "\n",
       "                { data: { source: 'e', target: 'j', faveColor: '#EDA1ED', strength: 95 } },\n",
       "                { data: { source: 'e', target: 'k', faveColor: '#EDA1ED', strength: 60 }, classes: 'questionable' },\n",
       "\n",
       "                { data: { source: 'k', target: 'j', faveColor: '#86B342', strength: 100 } },\n",
       "                { data: { source: 'k', target: 'e', faveColor: '#86B342', strength: 100 } },\n",
       "                { data: { source: 'k', target: 'g', faveColor: '#86B342', strength: 100 } },\n",
       "\n",
       "                { data: { source: 'g', target: 'j', faveColor: '#F5A45D', strength: 90 } }\n",
       "            ]\n",
       "        },\n",
       "\n",
       "        ready: function(){\n",
       "            window.cy = this;\n",
       "        }\n",
       "    });\n",
       "});"
      ],
      "text/plain": [
       "<IPython.core.display.Javascript object>"
      ]
     },
     "metadata": {},
     "output_type": "display_data"
    }
   ],
   "source": [
    "%%javascript\n",
    "\n",
    "require.config({\n",
    "    paths: {\n",
    "        cytoscape: \"http://cytoscape.github.io/cytoscape.js/api/cytoscape.js-2.4.5/cytoscape.min\",\n",
    "    }\n",
    "});\n",
    "\n",
    "require([\"cytoscape\"], function(cytoscape) {\n",
    "    $('#cy').cytoscape({\n",
    "        layout: {\n",
    "            name: 'circle',\n",
    "        },\n",
    "\n",
    "        zoomingEnabled: false,\n",
    "        userZoomingEnabled: false,\n",
    "        pan: { x: 0, y: 0 },\n",
    "        panningEnabled: false,\n",
    "        fit: true,\n",
    "\n",
    "        style: cytoscape.stylesheet()\n",
    "            .selector('node')\n",
    "            .css({\n",
    "                'shape': 'data(faveShape)',\n",
    "                'width': 'mapData(weight, 40, 80, 20, 60)',\n",
    "                'content': 'data(name)',\n",
    "                'text-valign': 'center',\n",
    "                'text-outline-width': 2,\n",
    "                'text-outline-color': 'data(faveColor)',\n",
    "                'background-color': 'data(faveColor)',\n",
    "                'color': '#fff'\n",
    "            })\n",
    "            .selector(':selected')\n",
    "            .css({\n",
    "                'border-width': 3,\n",
    "                'border-color': '#333'\n",
    "            })\n",
    "            .selector('edge')\n",
    "            .css({\n",
    "                'width': 'mapData(strength, 70, 100, 2, 6)',\n",
    "                'target-arrow-shape': 'triangle',\n",
    "                'source-arrow-shape': 'circle',\n",
    "                'line-color': 'data(faveColor)',\n",
    "                'source-arrow-color': 'data(faveColor)',\n",
    "                'target-arrow-color': 'data(faveColor)'\n",
    "            })\n",
    "            .selector('edge.questionable')\n",
    "            .css({\n",
    "                'line-style': 'dotted',\n",
    "                'target-arrow-shape': 'diamond'\n",
    "            })\n",
    "            .selector('.faded')\n",
    "            .css({\n",
    "                'opacity': 0.25,\n",
    "                'text-opacity': 0\n",
    "            }),\n",
    "\n",
    "        elements: {\n",
    "            nodes: [\n",
    "                { data: { id: 'j', name: 'Jerry', weight: 65, faveColor: '#6FB1FC', faveShape: 'triangle' } },\n",
    "                { data: { id: 'e', name: 'Elaine', weight: 45, faveColor: '#EDA1ED', faveShape: 'ellipse' } },\n",
    "                { data: { id: 'k', name: 'Kramer', weight: 75, faveColor: '#86B342', faveShape: 'octagon' } },\n",
    "                { data: { id: 'g', name: 'George', weight: 70, faveColor: '#F5A45D', faveShape: 'rectangle' } }\n",
    "            ],\n",
    "            edges: [\n",
    "                { data: { source: 'j', target: 'e', faveColor: '#6FB1FC', strength: 90 } },\n",
    "                { data: { source: 'j', target: 'k', faveColor: '#6FB1FC', strength: 70 } },\n",
    "                { data: { source: 'j', target: 'g', faveColor: '#6FB1FC', strength: 80 } },\n",
    "\n",
    "                { data: { source: 'e', target: 'j', faveColor: '#EDA1ED', strength: 95 } },\n",
    "                { data: { source: 'e', target: 'k', faveColor: '#EDA1ED', strength: 60 }, classes: 'questionable' },\n",
    "\n",
    "                { data: { source: 'k', target: 'j', faveColor: '#86B342', strength: 100 } },\n",
    "                { data: { source: 'k', target: 'e', faveColor: '#86B342', strength: 100 } },\n",
    "                { data: { source: 'k', target: 'g', faveColor: '#86B342', strength: 100 } },\n",
    "\n",
    "                { data: { source: 'g', target: 'j', faveColor: '#F5A45D', strength: 90 } }\n",
    "            ]\n",
    "        },\n",
    "\n",
    "        ready: function(){\n",
    "            window.cy = this;\n",
    "        }\n",
    "    });\n",
    "});\n"
   ]
  },
  {
   "cell_type": "markdown",
   "metadata": {},
   "source": [
    "The graph should appear rendered above. Try repositioning nodes by selecting and dragging them about.\n",
    "\n",
    "All good fun, but to make it useful within IPython we'd want to connect the graph up with data we can manipulate within the python environment. Will explore that next."
   ]
  }
 ],
 "metadata": {
  "kernelspec": {
   "display_name": "Python 3",
   "language": "python",
   "name": "python3"
  },
  "language_info": {
   "codemirror_mode": {
    "name": "ipython",
    "version": 3
   },
   "file_extension": ".py",
   "mimetype": "text/x-python",
   "name": "python",
   "nbconvert_exporter": "python",
   "pygments_lexer": "ipython3",
   "version": "3.4.3"
  }
 },
 "nbformat": 4,
 "nbformat_minor": 0
}
