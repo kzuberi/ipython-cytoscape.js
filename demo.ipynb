{
 "metadata": {
  "name": "",
  "signature": "sha256:eb155edf8d652fab27068ffef21a2660d08a9e08f02c4376b6967af7bc0d78e6"
 },
 "nbformat": 3,
 "nbformat_minor": 0,
 "worksheets": [
  {
   "cells": [
    {
     "cell_type": "markdown",
     "metadata": {},
     "source": [
      "Visualize and interact with networks within IPython notebooks with [IPython-cytoscape.js](https://github.com/kzuberi/ipython-cytoscape.js) widget extension.\n",
      "\n",
      "Graph data is defined as tables of nodes and edges with attributes such as color and shape\n",
      "in [Pandas](Pandas) Dataframes. "
     ]
    },
    {
     "cell_type": "markdown",
     "metadata": {},
     "source": [
      "Nodes must have an id (must be a string) and optionally columns\n",
      "for name, weight, color, and shape. "
     ]
    },
    {
     "cell_type": "code",
     "collapsed": false,
     "input": [
      "import pandas as pd\n",
      "nodes = pd.DataFrame([['ipcy', 'IPython-Cytoscape.js', 50, 'green', 'square'], \n",
      "                      ['cy', 'Cytoscape.js', 50, 'blue', 'circle'],\n",
      "                      ['ip', 'Ipython', 50, 'red', 'hexagon']],                      \n",
      "                     columns=['id', 'name', 'weight', 'color', 'shape'])\n",
      "\n",
      "nodes"
     ],
     "language": "python",
     "metadata": {},
     "outputs": [
      {
       "html": [
        "<div style=\"max-height:1000px;max-width:1500px;overflow:auto;\">\n",
        "<table border=\"1\" class=\"dataframe\">\n",
        "  <thead>\n",
        "    <tr style=\"text-align: right;\">\n",
        "      <th></th>\n",
        "      <th>id</th>\n",
        "      <th>name</th>\n",
        "      <th>weight</th>\n",
        "      <th>color</th>\n",
        "      <th>shape</th>\n",
        "    </tr>\n",
        "  </thead>\n",
        "  <tbody>\n",
        "    <tr>\n",
        "      <th>0</th>\n",
        "      <td> ipcy</td>\n",
        "      <td> IPython-Cytoscape.js</td>\n",
        "      <td> 50</td>\n",
        "      <td> green</td>\n",
        "      <td>  square</td>\n",
        "    </tr>\n",
        "    <tr>\n",
        "      <th>1</th>\n",
        "      <td>   cy</td>\n",
        "      <td>         Cytoscape.js</td>\n",
        "      <td> 50</td>\n",
        "      <td>  blue</td>\n",
        "      <td>  circle</td>\n",
        "    </tr>\n",
        "    <tr>\n",
        "      <th>2</th>\n",
        "      <td>   ip</td>\n",
        "      <td>              Ipython</td>\n",
        "      <td> 50</td>\n",
        "      <td>   red</td>\n",
        "      <td> hexagon</td>\n",
        "    </tr>\n",
        "  </tbody>\n",
        "</table>\n",
        "<p>3 rows \u00d7 5 columns</p>\n",
        "</div>"
       ],
       "metadata": {},
       "output_type": "pyout",
       "prompt_number": 1,
       "text": [
        "     id                  name  weight  color    shape\n",
        "0  ipcy  IPython-Cytoscape.js      50  green   square\n",
        "1    cy          Cytoscape.js      50   blue   circle\n",
        "2    ip               Ipython      50    red  hexagon\n",
        "\n",
        "[3 rows x 5 columns]"
       ]
      }
     ],
     "prompt_number": 1
    },
    {
     "cell_type": "markdown",
     "metadata": {},
     "source": [
      "Edges are defined by specifying source and target node id's,\n",
      "and optionally strength and color."
     ]
    },
    {
     "cell_type": "code",
     "collapsed": false,
     "input": [
      "edges = pd.DataFrame([['ipcy', 'ip', 20, 'gray' ], \n",
      "                      ['ipcy', 'cy', 20, 'gray']], \n",
      "                     columns=['source', 'target', 'strength', 'color'])\n",
      "\n",
      "edges"
     ],
     "language": "python",
     "metadata": {},
     "outputs": [
      {
       "html": [
        "<div style=\"max-height:1000px;max-width:1500px;overflow:auto;\">\n",
        "<table border=\"1\" class=\"dataframe\">\n",
        "  <thead>\n",
        "    <tr style=\"text-align: right;\">\n",
        "      <th></th>\n",
        "      <th>source</th>\n",
        "      <th>target</th>\n",
        "      <th>strength</th>\n",
        "      <th>color</th>\n",
        "    </tr>\n",
        "  </thead>\n",
        "  <tbody>\n",
        "    <tr>\n",
        "      <th>0</th>\n",
        "      <td> ipcy</td>\n",
        "      <td> ip</td>\n",
        "      <td> 20</td>\n",
        "      <td> gray</td>\n",
        "    </tr>\n",
        "    <tr>\n",
        "      <th>1</th>\n",
        "      <td> ipcy</td>\n",
        "      <td> cy</td>\n",
        "      <td> 20</td>\n",
        "      <td> gray</td>\n",
        "    </tr>\n",
        "  </tbody>\n",
        "</table>\n",
        "<p>2 rows \u00d7 4 columns</p>\n",
        "</div>"
       ],
       "metadata": {},
       "output_type": "pyout",
       "prompt_number": 2,
       "text": [
        "  source target  strength color\n",
        "0   ipcy     ip        20  gray\n",
        "1   ipcy     cy        20  gray\n",
        "\n",
        "[2 rows x 4 columns]"
       ]
      }
     ],
     "prompt_number": 2
    },
    {
     "cell_type": "markdown",
     "metadata": {},
     "source": [
      "After loading the cyto extension, create a network object\n",
      "with the ndoes and edges. Displaying the network renders\n",
      "the graph. Default styles and layout options are used\n",
      "but can be customized. The graph itself is interactive,\n",
      "for example selecting and respositioning nodes. Zooming and panning\n",
      "can also enabled. "
     ]
    },
    {
     "cell_type": "code",
     "collapsed": false,
     "input": [
      "%load_ext cyto\n",
      "network = cyto.Network(nodes, edges)\n",
      "network"
     ],
     "language": "python",
     "metadata": {},
     "outputs": [
      {
       "javascript": [
        "\n",
        "require.config({\n",
        "    paths: {\n",
        "        cytoscape: \"http://cytoscape.github.io/cytoscape.js/api/cytoscape.js-latest/cytoscape.min\",\n",
        "    }\n",
        "});\n",
        "\n",
        "require([\"cytoscape\"], function(cytoscape) {\n",
        "    // if there is a widget state saved in the page, use to\n",
        "    // initialize a graph. May be able to support display on\n",
        "    // viewer pages without the backend.\n",
        "    $.each($(\"#cyto_state\"), function(){\n",
        "        console.log(\"found a cyto_state %o\", this);\n",
        "        var json_state = $.parseJSON($(this).text());\n",
        "\n",
        "        // change layout to use saved positions\n",
        "        json_state['layout'] = {'name': 'preset'};\n",
        "\n",
        "        $(this).after(\"<div id='cyto_graph' style='height: 500px; width: 500px; position: relative'></div>\");\n",
        "        $(\"#cyto_graph\").cytoscape(json_state);\n",
        "    });\n",
        "\n",
        "});\n",
        "\n",
        "require([\"widgets/js/widget\", \"cytoscape\"], function(WidgetManager, cytoscape){\n",
        "\n",
        "    var CytoWidgetView = IPython.DOMWidgetView.extend({\n",
        "//        if we need the initialize function, remember to put in a call\n",
        "//        to the super method. here's a reminder:\n",
        "//        initialize: function() {\n",
        "//            return CytoWidgetView.__super__.initialize.apply(this, arguments);\n",
        "//        },\n",
        "\n",
        "        render: function(){\n",
        "            this.$el.css('height', '500px');\n",
        "            this.$el.css('width', '500px');\n",
        "            this.$el.css('position', 'relative');\n",
        "\n",
        "            var that = this;\n",
        "\n",
        "            this.$el.cytoscape({\n",
        "\n",
        "                layout: {\n",
        "                    name: 'circle',\n",
        "                    fit: true,\n",
        "                },\n",
        "\n",
        "                zoomingEnabled: true,\n",
        "                userZoomingEnabled: false,\n",
        "                pan: { x: 0, y: 0 },\n",
        "                panningEnabled: true,\n",
        "                userPanningEnabled: false,\n",
        "\n",
        "                ready: function(evt){\n",
        "                    // clear cytoscape container position cache\n",
        "                    // to work around scrolling bug\n",
        "                    var cy = this;\n",
        "                    that.$el.closest(\"#notebook\").scroll(function(){\n",
        "                        cy._private.renderer.containerBB = null;\n",
        "                    });\n",
        "                },\n",
        "            })\n",
        "\n",
        "            return this;\n",
        "        },\n",
        "\n",
        "        update: function() {\n",
        "            var cy = this.$el.cytoscape('get');\n",
        "\n",
        "            var style = this.model.get('style');\n",
        "            cy.style().resetToDefault().fromJson($.parseJSON(style));\n",
        "\n",
        "            var layout = this.model.get('layout');\n",
        "            cy.layout({name: layout, fit: true});\n",
        "\n",
        "            var elements = this.model.get('elements');\n",
        "            var node_data = $.parseJSON(elements[0]);\n",
        "            var edge_data = $.parseJSON(elements[1]);\n",
        "\n",
        "            var nodes = [];\n",
        "            for (var i=0; i<node_data.length; i++) {\n",
        "                nodes.push({data: node_data[i]});\n",
        "            }\n",
        "\n",
        "            var edges = [];\n",
        "            for (var i=0; i<edge_data.length; i++) {\n",
        "                edges.push({data: edge_data[i]});\n",
        "            }\n",
        "\n",
        "            var elements = {nodes: nodes, edges: edges};\n",
        "\n",
        "            cy.load(elements, function() {\n",
        "                //console.log(\"cy load done\");\n",
        "            });\n",
        "\n",
        "            return CytoWidgetView.__super__.update.apply(this);\n",
        "        },\n",
        "\n",
        "        on_msg: function(msg) {\n",
        "            switch (msg.msg_type) {\n",
        "                case 'get_snapshot':\n",
        "                    var cy = this.$el.cytoscape('get');\n",
        "                    var image = cy.png()\n",
        "                    var return_msg = {'msg_type': 'snapshot', 'image': image};\n",
        "\n",
        "                    // pass on_return back\n",
        "                    if (msg.on_return == 'display') {\n",
        "                        return_msg['on_return'] = 'display';\n",
        "                    }\n",
        "                    else if (msg.on_return == 'save') {\n",
        "                        return_msg['on_return'] = 'save';\n",
        "                        return_msg['filename'] = msg.filename;\n",
        "                    }\n",
        "\n",
        "                    this.send(return_msg);\n",
        "                    break;\n",
        "                case 'save_state':\n",
        "                    var cy = this.$el.cytoscape('get');\n",
        "                    var json = JSON.stringify(cy.json());\n",
        "                    this.send({'msg_type': 'json', 'json': json});\n",
        "                    break;\n",
        "                default:\n",
        "                    console.log(\"unexpected msg_type\", msg.msg_type);\n",
        "            }\n",
        "        }\n",
        "\n",
        "    });\n",
        "\n",
        "    // register widget\n",
        "    WidgetManager.register_widget_view('CytoWidgetView', CytoWidgetView);\n",
        "});"
       ],
       "metadata": {},
       "output_type": "display_data",
       "text": [
        "<IPython.core.display.Javascript at 0x105fde550>"
       ]
      },
      {
       "html": [
        "<div id='cyto_state' style='display: none;'>{\"elements\":{\"nodes\":[{\"data\":{\"id\":\"ipcy\",\"name\":\"IPython-Cytoscape.js\",\"weight\":50,\"color\":\"green\",\"shape\":\"square\"},\"position\":{\"x\":249.99999999999997,\"y\":40},\"group\":\"nodes\",\"removed\":false,\"selected\":false,\"selectable\":true,\"locked\":false,\"grabbed\":false,\"grabbable\":true,\"classes\":\"\"},{\"data\":{\"id\":\"cy\",\"name\":\"Cytoscape.js\",\"weight\":50,\"color\":\"blue\",\"shape\":\"circle\"},\"position\":{\"x\":431.86533479473223,\"y\":354.9999999999999},\"group\":\"nodes\",\"removed\":false,\"selected\":false,\"selectable\":true,\"locked\":false,\"grabbed\":false,\"grabbable\":true,\"classes\":\"\"},{\"data\":{\"id\":\"ip\",\"name\":\"Ipython\",\"weight\":50,\"color\":\"red\",\"shape\":\"hexagon\"},\"position\":{\"x\":68.13466520526802,\"y\":355.0000000000002},\"group\":\"nodes\",\"removed\":false,\"selected\":false,\"selectable\":true,\"locked\":false,\"grabbed\":false,\"grabbable\":true,\"classes\":\"\"}],\"edges\":[{\"data\":{\"source\":\"ipcy\",\"target\":\"ip\",\"strength\":20,\"color\":\"gray\",\"id\":\"e2\"},\"position\":{},\"group\":\"edges\",\"removed\":false,\"selected\":false,\"selectable\":true,\"locked\":false,\"grabbed\":false,\"grabbable\":true,\"classes\":\"\"},{\"data\":{\"source\":\"ipcy\",\"target\":\"cy\",\"strength\":20,\"color\":\"gray\",\"id\":\"e3\"},\"position\":{},\"group\":\"edges\",\"removed\":false,\"selected\":false,\"selectable\":true,\"locked\":false,\"grabbed\":false,\"grabbable\":true,\"classes\":\"\"}]},\"style\":[{\"selector\":\"node, edge\",\"css\":{\"text-valign\":\"top\",\"text-halign\":\"center\",\"color\":\"#000\",\"content\":\"\",\"text-outline-color\":\"#000\",\"text-outline-width\":\"0px\",\"text-outline-opacity\":\"1\",\"text-opacity\":\"1\",\"text-decoration\":\"none\",\"text-transform\":\"none\",\"font-family\":\"Helvetica\",\"font-style\":\"normal\",\"font-variant\":\"normal\",\"font-weight\":\"normal\",\"font-size\":\"16px\",\"min-zoomed-font-size\":\"0px\",\"display\":\"element\",\"visibility\":\"visible\",\"opacity\":\"1\",\"z-index\":\"0\",\"overlay-padding\":\"10px\",\"overlay-color\":\"#000\",\"overlay-opacity\":\"0\",\"transition-property\":\"none\",\"transition-duration\":\"0s\",\"transition-delay\":\"0s\",\"background-blacken\":\"0\",\"background-color\":\"#888\",\"background-opacity\":\"1\",\"background-image\":\"none\",\"background-position-x\":\"50%\",\"background-position-y\":\"50%\",\"background-repeat\":\"no-repeat\",\"background-fit\":\"none\",\"background-clip\":\"node\",\"pie-size\":\"100%\",\"pie-1-background-color\":\"black\",\"pie-2-background-color\":\"black\",\"pie-3-background-color\":\"black\",\"pie-4-background-color\":\"black\",\"pie-5-background-color\":\"black\",\"pie-6-background-color\":\"black\",\"pie-7-background-color\":\"black\",\"pie-8-background-color\":\"black\",\"pie-9-background-color\":\"black\",\"pie-10-background-color\":\"black\",\"pie-11-background-color\":\"black\",\"pie-12-background-color\":\"black\",\"pie-13-background-color\":\"black\",\"pie-14-background-color\":\"black\",\"pie-15-background-color\":\"black\",\"pie-16-background-color\":\"black\",\"pie-1-background-size\":\"0%\",\"pie-2-background-size\":\"0%\",\"pie-3-background-size\":\"0%\",\"pie-4-background-size\":\"0%\",\"pie-5-background-size\":\"0%\",\"pie-6-background-size\":\"0%\",\"pie-7-background-size\":\"0%\",\"pie-8-background-size\":\"0%\",\"pie-9-background-size\":\"0%\",\"pie-10-background-size\":\"0%\",\"pie-11-background-size\":\"0%\",\"pie-12-background-size\":\"0%\",\"pie-13-background-size\":\"0%\",\"pie-14-background-size\":\"0%\",\"pie-15-background-size\":\"0%\",\"pie-16-background-size\":\"0%\",\"border-color\":\"#000\",\"border-opacity\":\"1\",\"border-width\":\"0px\",\"border-style\":\"solid\",\"height\":\"30px\",\"width\":\"30px\",\"padding-left\":\"0px\",\"padding-right\":\"0px\",\"padding-top\":\"0px\",\"padding-bottom\":\"0px\",\"shape\":\"ellipse\",\"source-arrow-shape\":\"none\",\"target-arrow-shape\":\"none\",\"source-arrow-color\":\"#bbb\",\"target-arrow-color\":\"#bbb\",\"source-arrow-fill\":\"filled\",\"target-arrow-fill\":\"filled\",\"line-style\":\"solid\",\"line-color\":\"#bbb\",\"control-point-step-size\":\"40px\",\"control-point-weight\":\"0.5\",\"curve-style\":\"bezier\"}},{\"selector\":\"node > node\",\"css\":{\"background-opacity\":\"0.5\",\"height\":\"auto\",\"width\":\"auto\",\"padding-left\":\"10px\",\"padding-right\":\"10px\",\"padding-top\":\"10px\",\"padding-bottom\":\"10px\",\"shape\":\"rectangle\"}},{\"selector\":\"edge\",\"css\":{\"width\":\"1px\"}},{\"selector\":\":active\",\"css\":{\"overlay-padding\":\"10px\",\"overlay-color\":\"black\",\"overlay-opacity\":\"0.25\"}},{\"selector\":\"core\",\"css\":{\"selection-box-color\":\"#ddd\",\"selection-box-opacity\":\"0.65\",\"selection-box-border-color\":\"#aaa\",\"selection-box-border-width\":\"1px\",\"panning-cursor\":\"grabbing\",\"active-bg-color\":\"black\",\"active-bg-opacity\":\"0.15\",\"active-bg-size\":\"15px\",\"outside-texture-bg-color\":\"#000\",\"outside-texture-bg-opacity\":\"0.125\"}},{\"selector\":\"node\",\"css\":{\"content\":\"data(name)\",\"width\":\"mapData(weight, 0, 100, 20, 60)\",\"shape\":\"data(shape)\",\"background-color\":\"data(color)\",\"text-outline-width\":\"2px\",\"color\":\"#fff\",\"text-valign\":\"center\",\"text-outline-color\":\"data(color)\",\"height\":\"mapData(weight, 0, 100, 20, 60)\"}},{\"selector\":\"edge.questionable\",\"css\":{\"line-style\":\"dotted\",\"target-arrow-shape\":\"diamond\"}},{\"selector\":\"edge\",\"css\":{\"source-arrow-shape\":\"circle\",\"line-color\":\"data(color)\",\"target-arrow-shape\":\"triangle\",\"source-arrow-color\":\"data(color)\",\"width\":\"mapData(strength, 0, 100, 2, 6)\",\"target-arrow-color\":\"data(color)\"}},{\"selector\":\":selected\",\"css\":{\"border-color\":\"#333\",\"border-width\":\"3px\"}},{\"selector\":\".faded\",\"css\":{\"opacity\":\"0.25\",\"text-opacity\":\"0\"}}],\"scratch\":{},\"zoomingEnabled\":true,\"userZoomingEnabled\":false,\"zoom\":1.0121209079072149,\"minZoom\":1e-50,\"maxZoom\":1e+50,\"panningEnabled\":true,\"userPanningEnabled\":false,\"pan\":{\"x\":-12.645375601922353,\"y\":50.10612068832495},\"boxSelectionEnabled\":true,\"layout\":{\"name\":\"circle\",\"fit\":true},\"renderer\":{\"name\":\"canvas\"},\"hideEdgesOnViewport\":false}</div>"
       ],
       "metadata": {},
       "output_type": "display_data",
       "text": [
        "<IPython.core.display.HTML at 0x1037d47d0>"
       ]
      }
     ],
     "prompt_number": 3
    },
    {
     "cell_type": "markdown",
     "metadata": {},
     "source": [
      "Once a network is rendered, a couple of options enable it to be displayed\n",
      "on static notebook pages (e.g. rendered on nbviewer). The first is to .save_state() on the\n",
      "network, which will cache the graph layout (including any manual repositioning you may\n",
      "hae done!) within the notebook, and reload this on dispay. The graph remains interactive.\n"
     ]
    },
    {
     "cell_type": "code",
     "collapsed": false,
     "input": [
      "network.save_state()"
     ],
     "language": "python",
     "metadata": {},
     "outputs": [],
     "prompt_number": 4
    },
    {
     "cell_type": "markdown",
     "metadata": {},
     "source": [
      "The second option is to to call snapshot(), which simply\n",
      "renders the graph to a png image."
     ]
    },
    {
     "cell_type": "code",
     "collapsed": false,
     "input": [
      "nw2 = cyto.Network(nodes, edges, layout='grid')\n",
      "nw2"
     ],
     "language": "python",
     "metadata": {},
     "outputs": [
      {
       "metadata": {},
       "output_type": "display_data",
       "png": "[encoded data removed]",
       "text": [
        "<IPython.core.display.Image at 0x1037d9d90>"
       ]
      }
     ],
     "prompt_number": 5
    },
    {
     "cell_type": "code",
     "collapsed": false,
     "input": [
      "nw2.snapshot()"
     ],
     "language": "python",
     "metadata": {},
     "outputs": [],
     "prompt_number": 6
    }
   ],
   "metadata": {}
  }
 ]
}